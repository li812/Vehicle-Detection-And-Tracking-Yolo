{
 "cells": [
  {
   "cell_type": "code",
   "execution_count": 1,
   "metadata": {},
   "outputs": [
    {
     "name": "stderr",
     "output_type": "stream",
     "text": [
      "OMP: Info #276: omp_set_nested routine deprecated, please use omp_set_max_active_levels instead.\n"
     ]
    }
   ],
   "source": [
    "import io\n",
    "import os\n",
    "import shutil\n",
    "import cv2\n",
    "import torch\n",
    "import torchvision\n",
    "import numpy as np\n",
    "import pandas as pd\n",
    "from ultralytics import YOLO\n",
    "from ultralytics import YOLOWorld\n",
    "from rembg import remove\n",
    "from PIL import Image,ImageDraw\n",
    "import StolenVehicle\n",
    "from StolenVehicle import Augment_Image\n",
    "from StolenVehicle import Remove_BG\n",
    "from StolenVehicle import Draw_Boundary\n",
    "from StolenVehicle import Generate_Label\n",
    "from StolenVehicle import Organize_Files\n",
    "from StolenVehicle import Reset\n"
   ]
  },
  {
   "cell_type": "code",
   "execution_count": 2,
   "metadata": {},
   "outputs": [
    {
     "name": "stdout",
     "output_type": "stream",
     "text": [
      "Error: No such file or directory\n",
      "dataset folder doesn't exists\n",
      "Error: No such file or directory\n",
      "no_bg_img folder doesn't exists\n",
      "Finished removing image background!\n",
      "Finished generating augmented images!\n",
      "Finished drawing Boundary Box!\n",
      "Finished labeling all images!\n"
     ]
    }
   ],
   "source": [
    "Reset()\n",
    "user_input_img = 'search_img/s1.jpg'\n",
    "\n",
    "model = YOLO('yolov8x.pt')\n",
    "\n",
    "Remove_BG(user_input_img)\n",
    "\n",
    "\n",
    "\n",
    "no_bg_image_path = 'no_bg_img/image.jpg'\n",
    "\n",
    "# Augment the single image to create a dataset\n",
    "Augment_Image(no_bg_image_path)\n",
    "\n",
    "# Save augmented images to a directory\n",
    "\n",
    "\n",
    "Draw_Boundary(\"dataset\")\n",
    "\n",
    "dataset_path = \"dataset\"\n",
    "Generate_Label(dataset_path)\n",
    "\n",
    "Organize_Files(dataset_path)\n"
   ]
  },
  {
   "cell_type": "code",
   "execution_count": 8,
   "metadata": {},
   "outputs": [],
   "source": []
  },
  {
   "cell_type": "code",
   "execution_count": 9,
   "metadata": {},
   "outputs": [],
   "source": []
  }
 ],
 "metadata": {
  "kernelspec": {
   "display_name": "yolo8",
   "language": "python",
   "name": "python3"
  },
  "language_info": {
   "codemirror_mode": {
    "name": "ipython",
    "version": 3
   },
   "file_extension": ".py",
   "mimetype": "text/x-python",
   "name": "python",
   "nbconvert_exporter": "python",
   "pygments_lexer": "ipython3",
   "version": "3.12.2"
  }
 },
 "nbformat": 4,
 "nbformat_minor": 2
}
